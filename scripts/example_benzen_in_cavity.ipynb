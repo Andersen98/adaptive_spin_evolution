{
 "cells": [
  {
   "cell_type": "markdown",
   "metadata": {},
   "source": [
    "# Adaptive Calculation of Benzene in a Nano-Tip Cavity\n",
    "\n",
    "The purpose of this example is to show how an adaptive code can be used to find the *'active space'* of a light-matter system. The adaptive code builds *'marries*' two methods/calculations:\n",
    "\n",
    "1. A quasi-normal mode (QNM) calculation of a nano-cavity using **MEEP**. MEEP is an open-source ectrodynamics python/C++ package. [link](https://meep.readthedocs.io/en/latest/)\n",
    "2. An excited state calculation of a molecule using **PySCF**. The excited state calculation yeilds the electronic energy levels and electric transition dipole moments. PySCF is an open-source electronic structure software for python. [link](https://pyscf.org/)"
   ]
  },
  {
   "cell_type": "markdown",
   "metadata": {},
   "source": []
  },
  {
   "cell_type": "markdown",
   "metadata": {},
   "source": [
    "# Quasi-Normal Mode Calculation\n",
    "\n",
    "We hope to calculate the quasi-normal modes (QNM) of a nano-tip cavity. A quasi-normal mode is a 'resonant' solution of Maxwell's wave equation for an open cavity. This boils down to an eigenvalue problem where solutions(QNMs) are pairs of:\n",
    "- `Eigen spatial electric fields` - A vector field $\\vec E_m(\\vec r)$ for QNM $m$ \n",
    "- `Eigen complex frequencies` - A complex frequency: $\\omega + i\\Gamma$\n",
    "    - $\\omega$ represents oscillation frequency\n",
    "    - $\\Gamma$ represents decay rate \n"
   ]
  },
  {
   "cell_type": "markdown",
   "metadata": {},
   "source": []
  },
  {
   "cell_type": "markdown",
   "metadata": {},
   "source": [
    "# Excited State Calculation of Molecule\n",
    "\n",
    "Given some molecule (n this case benzene) we hope to calculate \n",
    "`Excited states` - A list of $N_e$ Excited States, which are used to find\n",
    "- `Excited state energies` - A list of $N_e$ excited state energies \n",
    "- `Electric Dipole Transition Moments` - A list of transition moments such that the dipole moment $\\vec \\mu$ is $$ \\vec \\mu = \\sum_{i j} d_{i,j}\\langle i | \\vec r | j \\rangle \\; \\bigl [ | i \\rangle | \\langle j |\\bigr]$$"
   ]
  },
  {
   "cell_type": "markdown",
   "metadata": {},
   "source": [
    "# Use adaptive code to 'marry' the excited state and quasi-normal mode calculations\n",
    "\n",
    "In this section we\n",
    "- Prepare parameters\n",
    "    - Place the molecule (benzene) in the cavity at $\\vec R_{mol}$\n",
    "    - Calculate the couplings $g_{i j m}$ which is given by the dipole interaction $$H_{int} = -\\vec \\mu \\cdot \\vec E = - \\sum_{i j} d_{i,j}\\langle i | \\vec r | j \\rangle \\; \\bigl [ | i \\rangle | \\langle j |\\bigr] \\cdot \\sum_{m\\in \\text{QNMs}} \\vec E_m(\\vec R_{mol})$$ \n",
    "    - For each QNM m, represent loss by distributing couplings $g_{i j m}$ on a discrete Lorentzian of width $\\Gamma_m$ and area $g_{i j m}$\n",
    "- Find 'active space' with adaptive code\n",
    "    - Choose some initial excited state $\\psi$\n",
    "    - Find the transitions $\\mathcal T_q (\\psi)$ where $|\\mathcal T_q(\\psi)| > \\epsilon$ \n",
    "    - Expand active space so $\\psi$ can transition into the $\\mathcal T_q$'s\n",
    "    - Update $\\psi$ to the next time step $\\psi(t) \\rightarrow \\psi(t+\\Delta t)$ \n",
    "    - repeat until you have hit an iteration limit\n"
   ]
  },
  {
   "cell_type": "markdown",
   "metadata": {},
   "source": []
  }
 ],
 "metadata": {
  "kernelspec": {
   "display_name": "Python 3.10.5 ('.venv': venv)",
   "language": "python",
   "name": "python3"
  },
  "language_info": {
   "name": "python",
   "version": "3.10.5"
  },
  "orig_nbformat": 4,
  "vscode": {
   "interpreter": {
    "hash": "f1a5ab9681ce3ca299cb303913c7832bf9396572c6e1d32e3bab8d7a0afaa5f4"
   }
  }
 },
 "nbformat": 4,
 "nbformat_minor": 2
}
